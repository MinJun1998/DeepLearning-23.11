{
  "nbformat": 4,
  "nbformat_minor": 0,
  "metadata": {
    "colab": {
      "provenance": [],
      "gpuType": "T4"
    },
    "kernelspec": {
      "name": "python3",
      "display_name": "Python 3"
    },
    "language_info": {
      "name": "python"
    },
    "accelerator": "GPU"
  },
  "cells": [
    {
      "cell_type": "markdown",
      "source": [
        "## MNIST 손글씨 - CNN v1\n",
        "- 2 x Conv2D layers\n",
        "- 1 FCN layer\n",
        "- 1 Outputlayer"
      ],
      "metadata": {
        "id": "zek4HE2ifC7_"
      }
    },
    {
      "cell_type": "code",
      "source": [
        "import numpy as np\n",
        "import matplotlib.pyplot as plt\n",
        "import tensorflow as tf\n",
        "seed = 2023\n",
        "np.random.seed(seed)\n",
        "tf.random.set_seed(seed)"
      ],
      "metadata": {
        "id": "-rzobJyofOV_"
      },
      "execution_count": 1,
      "outputs": []
    },
    {
      "cell_type": "code",
      "source": [
        "tf.__version__"
      ],
      "metadata": {
        "colab": {
          "base_uri": "https://localhost:8080/",
          "height": 35
        },
        "id": "j-zkzSMKfjcH",
        "outputId": "22bae639-8f7b-4d9e-d319-d1fe198b325f"
      },
      "execution_count": 2,
      "outputs": [
        {
          "output_type": "execute_result",
          "data": {
            "text/plain": [
              "'2.14.0'"
            ],
            "application/vnd.google.colaboratory.intrinsic+json": {
              "type": "string"
            }
          },
          "metadata": {},
          "execution_count": 2
        }
      ]
    },
    {
      "cell_type": "markdown",
      "source": [
        "- 데이터 전처리"
      ],
      "metadata": {
        "id": "f7emZJsefgE3"
      }
    },
    {
      "cell_type": "code",
      "source": [
        "from tensorflow.keras.datasets import mnist\n",
        "(X_train, y_train), (X_test, y_test) = mnist.load_data()\n",
        "X_train.shape, y_train.shape, X_test.shape, y_test.shape"
      ],
      "metadata": {
        "colab": {
          "base_uri": "https://localhost:8080/"
        },
        "id": "PbVIbsL3fbmh",
        "outputId": "344c7a5c-ce07-49f0-9b8b-1193bb296d5d"
      },
      "execution_count": 3,
      "outputs": [
        {
          "output_type": "stream",
          "name": "stdout",
          "text": [
            "Downloading data from https://storage.googleapis.com/tensorflow/tf-keras-datasets/mnist.npz\n",
            "11490434/11490434 [==============================] - 0s 0us/step\n"
          ]
        },
        {
          "output_type": "execute_result",
          "data": {
            "text/plain": [
              "((60000, 28, 28), (60000,), (10000, 28, 28), (10000,))"
            ]
          },
          "metadata": {},
          "execution_count": 3
        }
      ]
    },
    {
      "cell_type": "code",
      "source": [
        "# Xdata의 차원 변경 및 정규화(0 ~ 1)\n",
        "X_train = X_train.reshape(-1, 28, 28, 1) / 255.\n",
        "X_test = X_test.reshape(-1, 28, 28, 1) / 255."
      ],
      "metadata": {
        "id": "tIPvc0Yxf64v"
      },
      "execution_count": 4,
      "outputs": []
    },
    {
      "cell_type": "code",
      "source": [
        "# y__data의 one-hot-encoding\n",
        "from tensorflow.keras.utils import to_categorical\n",
        "Y_train = to_categorical(y_train)\n",
        "Y_test = to_categorical(y_test)\n",
        "Y_train.shape, Y_test.shape"
      ],
      "metadata": {
        "colab": {
          "base_uri": "https://localhost:8080/"
        },
        "id": "Vk9SpQ0vgYyg",
        "outputId": "66822dc1-2e37-4400-f39b-5f0071887798"
      },
      "execution_count": 5,
      "outputs": [
        {
          "output_type": "execute_result",
          "data": {
            "text/plain": [
              "((60000, 10), (10000, 10))"
            ]
          },
          "metadata": {},
          "execution_count": 5
        }
      ]
    },
    {
      "cell_type": "markdown",
      "source": [
        "- 모델 정의/설정/학습/평가"
      ],
      "metadata": {
        "id": "OPwp_XNjhNDw"
      }
    },
    {
      "cell_type": "code",
      "source": [
        "from tensorflow.keras.models import Sequential, load_model\n",
        "from tensorflow.keras.layers import Conv2D, Dense, Flatten\n",
        "from tensorflow.keras.callbacks import ModelCheckpoint, EarlyStopping"
      ],
      "metadata": {
        "id": "7kdSQKJOhFoI"
      },
      "execution_count": 6,
      "outputs": []
    },
    {
      "cell_type": "code",
      "source": [
        "model = Sequential([\n",
        "    Conv2D(32, kernel_size=(3,3), input_shape=(28,28,1), activation='relu'),\n",
        "    Conv2D(64, (3,3), activation='relu'),\n",
        "    Flatten(),\n",
        "    Dense(512, activation='relu'),\n",
        "    Dense(10, activation='softmax')\n",
        "])\n",
        "model.summary()"
      ],
      "metadata": {
        "colab": {
          "base_uri": "https://localhost:8080/"
        },
        "id": "4BWANW5Whiny",
        "outputId": "28fdcf82-14cb-4991-c353-0f3cdbf3aeab"
      },
      "execution_count": 7,
      "outputs": [
        {
          "output_type": "stream",
          "name": "stdout",
          "text": [
            "Model: \"sequential\"\n",
            "_________________________________________________________________\n",
            " Layer (type)                Output Shape              Param #   \n",
            "=================================================================\n",
            " conv2d (Conv2D)             (None, 26, 26, 32)        320       \n",
            "                                                                 \n",
            " conv2d_1 (Conv2D)           (None, 24, 24, 64)        18496     \n",
            "                                                                 \n",
            " flatten (Flatten)           (None, 36864)             0         \n",
            "                                                                 \n",
            " dense (Dense)               (None, 512)               18874880  \n",
            "                                                                 \n",
            " dense_1 (Dense)             (None, 10)                5130      \n",
            "                                                                 \n",
            "=================================================================\n",
            "Total params: 18898826 (72.09 MB)\n",
            "Trainable params: 18898826 (72.09 MB)\n",
            "Non-trainable params: 0 (0.00 Byte)\n",
            "_________________________________________________________________\n"
          ]
        }
      ]
    },
    {
      "cell_type": "code",
      "source": [
        "model.compile('adam', 'categorical_crossentropy', metrics=['accuracy'])"
      ],
      "metadata": {
        "id": "V_ZJthaRibcA"
      },
      "execution_count": 8,
      "outputs": []
    },
    {
      "cell_type": "code",
      "source": [
        "!mkdir models\n",
        "!ls -l"
      ],
      "metadata": {
        "colab": {
          "base_uri": "https://localhost:8080/"
        },
        "id": "MrCpYDSVkVx2",
        "outputId": "56b8425c-8a63-4cab-a41b-8f46b4a3bee0"
      },
      "execution_count": 9,
      "outputs": [
        {
          "output_type": "stream",
          "name": "stdout",
          "text": [
            "total 8\n",
            "drwxr-xr-x 2 root root 4096 Nov  8 01:45 models\n",
            "drwxr-xr-x 1 root root 4096 Nov  6 14:20 sample_data\n"
          ]
        }
      ]
    },
    {
      "cell_type": "code",
      "source": [
        "model_path = 'best-mnist-v1.h5'\n",
        "mc = ModelCheckpoint(model_path, save_best_only=True, verbose=1)\n",
        "es = EarlyStopping(patience=10)"
      ],
      "metadata": {
        "id": "2dEZhJvAkB1j"
      },
      "execution_count": 10,
      "outputs": []
    },
    {
      "cell_type": "code",
      "source": [
        "hist = model.fit(\n",
        "    X_train, Y_train, validation_split=0.2, epochs=100, batch_size=256,\n",
        "    callbacks=[mc,es]\n",
        ")"
      ],
      "metadata": {
        "colab": {
          "base_uri": "https://localhost:8080/"
        },
        "id": "wrAmNsBklD36",
        "outputId": "78788455-466d-45b1-ebc5-e2111bb61c09"
      },
      "execution_count": 11,
      "outputs": [
        {
          "output_type": "stream",
          "name": "stdout",
          "text": [
            "Epoch 1/100\n",
            "188/188 [==============================] - ETA: 0s - loss: 0.1634 - accuracy: 0.9491\n",
            "Epoch 1: val_loss improved from inf to 0.05757, saving model to best-mnist-v1.h5\n"
          ]
        },
        {
          "output_type": "stream",
          "name": "stderr",
          "text": [
            "/usr/local/lib/python3.10/dist-packages/keras/src/engine/training.py:3079: UserWarning: You are saving your model as an HDF5 file via `model.save()`. This file format is considered legacy. We recommend using instead the native Keras format, e.g. `model.save('my_model.keras')`.\n",
            "  saving_api.save_model(\n"
          ]
        },
        {
          "output_type": "stream",
          "name": "stdout",
          "text": [
            "\b\b\b\b\b\b\b\b\b\b\b\b\b\b\b\b\b\b\b\b\b\b\b\b\b\b\b\b\b\b\b\b\b\b\b\b\b\b\b\b\b\b\b\b\b\b\b\b\b\b\b\b\b\b\b\b\b\b\b\b\b\b\b\b\b\b\b\b\b\b\b\b\b\b\b\b\b\b\b\b\b\b\b\b\r188/188 [==============================] - 17s 28ms/step - loss: 0.1634 - accuracy: 0.9491 - val_loss: 0.0576 - val_accuracy: 0.9830\n",
            "Epoch 2/100\n",
            "187/188 [============================>.] - ETA: 0s - loss: 0.0398 - accuracy: 0.9876\n",
            "Epoch 2: val_loss improved from 0.05757 to 0.04824, saving model to best-mnist-v1.h5\n",
            "188/188 [==============================] - 4s 24ms/step - loss: 0.0398 - accuracy: 0.9876 - val_loss: 0.0482 - val_accuracy: 0.9860\n",
            "Epoch 3/100\n",
            "186/188 [============================>.] - ETA: 0s - loss: 0.0198 - accuracy: 0.9938\n",
            "Epoch 3: val_loss did not improve from 0.04824\n",
            "188/188 [==============================] - 4s 22ms/step - loss: 0.0198 - accuracy: 0.9938 - val_loss: 0.0520 - val_accuracy: 0.9853\n",
            "Epoch 4/100\n",
            "187/188 [============================>.] - ETA: 0s - loss: 0.0119 - accuracy: 0.9957\n",
            "Epoch 4: val_loss did not improve from 0.04824\n",
            "188/188 [==============================] - 5s 28ms/step - loss: 0.0119 - accuracy: 0.9958 - val_loss: 0.0533 - val_accuracy: 0.9848\n",
            "Epoch 5/100\n",
            "186/188 [============================>.] - ETA: 0s - loss: 0.0065 - accuracy: 0.9981\n",
            "Epoch 5: val_loss did not improve from 0.04824\n",
            "188/188 [==============================] - 5s 26ms/step - loss: 0.0064 - accuracy: 0.9981 - val_loss: 0.0500 - val_accuracy: 0.9875\n",
            "Epoch 6/100\n",
            "188/188 [==============================] - ETA: 0s - loss: 0.0046 - accuracy: 0.9985\n",
            "Epoch 6: val_loss did not improve from 0.04824\n",
            "188/188 [==============================] - 5s 25ms/step - loss: 0.0046 - accuracy: 0.9985 - val_loss: 0.0549 - val_accuracy: 0.9868\n",
            "Epoch 7/100\n",
            "186/188 [============================>.] - ETA: 0s - loss: 0.0051 - accuracy: 0.9985\n",
            "Epoch 7: val_loss did not improve from 0.04824\n",
            "188/188 [==============================] - 4s 24ms/step - loss: 0.0051 - accuracy: 0.9985 - val_loss: 0.0746 - val_accuracy: 0.9836\n",
            "Epoch 8/100\n",
            "187/188 [============================>.] - ETA: 0s - loss: 0.0045 - accuracy: 0.9987\n",
            "Epoch 8: val_loss did not improve from 0.04824\n",
            "188/188 [==============================] - 4s 22ms/step - loss: 0.0045 - accuracy: 0.9987 - val_loss: 0.0571 - val_accuracy: 0.9879\n",
            "Epoch 9/100\n",
            "187/188 [============================>.] - ETA: 0s - loss: 0.0040 - accuracy: 0.9986\n",
            "Epoch 9: val_loss did not improve from 0.04824\n",
            "188/188 [==============================] - 4s 21ms/step - loss: 0.0040 - accuracy: 0.9986 - val_loss: 0.0630 - val_accuracy: 0.9879\n",
            "Epoch 10/100\n",
            "187/188 [============================>.] - ETA: 0s - loss: 0.0030 - accuracy: 0.9990\n",
            "Epoch 10: val_loss did not improve from 0.04824\n",
            "188/188 [==============================] - 4s 21ms/step - loss: 0.0030 - accuracy: 0.9990 - val_loss: 0.0555 - val_accuracy: 0.9866\n",
            "Epoch 11/100\n",
            "187/188 [============================>.] - ETA: 0s - loss: 0.0029 - accuracy: 0.9991\n",
            "Epoch 11: val_loss did not improve from 0.04824\n",
            "188/188 [==============================] - 4s 23ms/step - loss: 0.0029 - accuracy: 0.9991 - val_loss: 0.0862 - val_accuracy: 0.9854\n",
            "Epoch 12/100\n",
            "187/188 [============================>.] - ETA: 0s - loss: 0.0054 - accuracy: 0.9985\n",
            "Epoch 12: val_loss did not improve from 0.04824\n",
            "188/188 [==============================] - 4s 22ms/step - loss: 0.0054 - accuracy: 0.9985 - val_loss: 0.0693 - val_accuracy: 0.9852\n"
          ]
        }
      ]
    },
    {
      "cell_type": "code",
      "source": [
        "best_model = load_model(model_path)\n",
        "best_model.evaluate(X_test, Y_test)"
      ],
      "metadata": {
        "colab": {
          "base_uri": "https://localhost:8080/"
        },
        "id": "A-igNvKVmFIj",
        "outputId": "70c4f92b-e513-4c87-fc47-138b46a2506f"
      },
      "execution_count": 12,
      "outputs": [
        {
          "output_type": "stream",
          "name": "stdout",
          "text": [
            "313/313 [==============================] - 1s 4ms/step - loss: 0.0413 - accuracy: 0.9879\n"
          ]
        },
        {
          "output_type": "execute_result",
          "data": {
            "text/plain": [
              "[0.04126104339957237, 0.9879000186920166]"
            ]
          },
          "metadata": {},
          "execution_count": 12
        }
      ]
    },
    {
      "cell_type": "markdown",
      "source": [
        "- 학습과정 시각화"
      ],
      "metadata": {
        "id": "IdrSYTHxm-E4"
      }
    },
    {
      "cell_type": "code",
      "source": [
        "y_acc = hist.history['accuracy']\n",
        "y_vloss = hist.history['val_loss']\n",
        "xs= np.arange(1, len(y_acc)+1)"
      ],
      "metadata": {
        "id": "VWQEcsOAm1lo"
      },
      "execution_count": 13,
      "outputs": []
    },
    {
      "cell_type": "code",
      "source": [
        "plt.figure(figsize=(12,6))\n",
        "plt.plot(xs, y_acc, label='train accuracy')\n",
        "plt.plot(xs, y_vloss, label='validation loss')\n",
        "plt.legend(), plt.grid(), plt.xlabel('epochs')\n",
        "plt.show()"
      ],
      "metadata": {
        "colab": {
          "base_uri": "https://localhost:8080/",
          "height": 542
        },
        "id": "zBwwSj2amxfw",
        "outputId": "7bd5acfc-9bc3-4962-c327-8fd2d1e2f308"
      },
      "execution_count": 14,
      "outputs": [
        {
          "output_type": "display_data",
          "data": {
            "text/plain": [
              "<Figure size 1200x600 with 1 Axes>"
            ],
            "image/png": "[encoded data removed]"
          },
          "metadata": {}
        }
      ]
    },
    {
      "cell_type": "code",
      "source": [],
      "metadata": {
        "id": "tzqSxruvnGHn"
      },
      "execution_count": null,
      "outputs": []
    }
  ]
}