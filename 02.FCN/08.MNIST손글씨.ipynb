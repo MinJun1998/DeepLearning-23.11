{
 "cells": [
  {
   "cell_type": "markdown",
   "metadata": {},
   "source": [
    "## MNIST 손글씨 다중분류 - FCN"
   ]
  },
  {
   "cell_type": "code",
   "execution_count": 1,
   "metadata": {},
   "outputs": [],
   "source": [
    "import numpy as np\n",
    "import pandas as pd\n",
    "import matplotlib.pyplot as plt\n",
    "import tensorflow as tf\n",
    "seed = 2023\n",
    "np.random.seed(seed)\n",
    "tf.random.set_seed(seed)\n",
    "import warnings\n",
    "warnings.filterwarnings('ignore')"
   ]
  },
  {
   "cell_type": "markdown",
   "metadata": {},
   "source": [
    "- 데이터 전처리"
   ]
  },
  {
   "cell_type": "code",
   "execution_count": 2,
   "metadata": {},
   "outputs": [],
   "source": [
    "from tensorflow.keras.datasets import mnist\n",
    "(X_train, y_train), (X_test, y_test) = mnist.load_data()"
   ]
  },
  {
   "cell_type": "code",
   "execution_count": 3,
   "metadata": {},
   "outputs": [
    {
     "data": {
      "text/plain": [
       "((60000, 28, 28), (10000, 28, 28), (60000,), (10000,))"
      ]
     },
     "execution_count": 3,
     "metadata": {},
     "output_type": "execute_result"
    }
   ],
   "source": [
    "X_train.shape, X_test.shape, y_train.shape, y_test.shape"
   ]
  },
  {
   "cell_type": "code",
   "execution_count": 4,
   "metadata": {},
   "outputs": [
    {
     "data": {
      "image/png": "[encoded data removed]",
      "text/plain": [
       "<Figure size 640x480 with 1 Axes>"
      ]
     },
     "metadata": {},
     "output_type": "display_data"
    }
   ],
   "source": [
    "plt.imshow(X_train[0], cmap='Greys');"
   ]
  },
  {
   "cell_type": "code",
   "execution_count": 5,
   "metadata": {},
   "outputs": [
    {
     "name": "stdout",
     "output_type": "stream",
     "text": [
      "  0   0   0   0   0   0   0   0   0   0   0   0   0   0   0   0   0   0   0   0   0   0   0   0   0   0   0   0 \n",
      "  0   0   0   0   0   0   0   0   0   0   0   0   0   0   0   0   0   0   0   0   0   0   0   0   0   0   0   0 \n",
      "  0   0   0   0   0   0   0   0   0   0   0   0   0   0   0   0   0   0   0   0   0   0   0   0   0   0   0   0 \n",
      "  0   0   0   0   0   0   0   0   0   0   0   0   0   0   0   0   0   0   0   0   0   0   0   0   0   0   0   0 \n",
      "  0   0   0   0   0   0   0   0   0   0   0   0   0   0   0   0   0   0   0   0   0   0   0   0   0   0   0   0 \n",
      "  0   0   0   0   0   0   0   0   0   0   0   0   3  18  18  18 126 136 175  26 166 255 247 127   0   0   0   0 \n",
      "  0   0   0   0   0   0   0   0  30  36  94 154 170 253 253 253 253 253 225 172 253 242 195  64   0   0   0   0 \n",
      "  0   0   0   0   0   0   0  49 238 253 253 253 253 253 253 253 253 251  93  82  82  56  39   0   0   0   0   0 \n",
      "  0   0   0   0   0   0   0  18 219 253 253 253 253 253 198 182 247 241   0   0   0   0   0   0   0   0   0   0 \n",
      "  0   0   0   0   0   0   0   0  80 156 107 253 253 205  11   0  43 154   0   0   0   0   0   0   0   0   0   0 \n",
      "  0   0   0   0   0   0   0   0   0  14   1 154 253  90   0   0   0   0   0   0   0   0   0   0   0   0   0   0 \n",
      "  0   0   0   0   0   0   0   0   0   0   0 139 253 190   2   0   0   0   0   0   0   0   0   0   0   0   0   0 \n",
      "  0   0   0   0   0   0   0   0   0   0   0  11 190 253  70   0   0   0   0   0   0   0   0   0   0   0   0   0 \n",
      "  0   0   0   0   0   0   0   0   0   0   0   0  35 241 225 160 108   1   0   0   0   0   0   0   0   0   0   0 \n",
      "  0   0   0   0   0   0   0   0   0   0   0   0   0  81 240 253 253 119  25   0   0   0   0   0   0   0   0   0 \n",
      "  0   0   0   0   0   0   0   0   0   0   0   0   0   0  45 186 253 253 150  27   0   0   0   0   0   0   0   0 \n",
      "  0   0   0   0   0   0   0   0   0   0   0   0   0   0   0  16  93 252 253 187   0   0   0   0   0   0   0   0 \n",
      "  0   0   0   0   0   0   0   0   0   0   0   0   0   0   0   0   0 249 253 249  64   0   0   0   0   0   0   0 \n",
      "  0   0   0   0   0   0   0   0   0   0   0   0   0   0  46 130 183 253 253 207   2   0   0   0   0   0   0   0 \n",
      "  0   0   0   0   0   0   0   0   0   0   0   0  39 148 229 253 253 253 250 182   0   0   0   0   0   0   0   0 \n",
      "  0   0   0   0   0   0   0   0   0   0  24 114 221 253 253 253 253 201  78   0   0   0   0   0   0   0   0   0 \n",
      "  0   0   0   0   0   0   0   0  23  66 213 253 253 253 253 198  81   2   0   0   0   0   0   0   0   0   0   0 \n",
      "  0   0   0   0   0   0  18 171 219 253 253 253 253 195  80   9   0   0   0   0   0   0   0   0   0   0   0   0 \n",
      "  0   0   0   0  55 172 226 253 253 253 253 244 133  11   0   0   0   0   0   0   0   0   0   0   0   0   0   0 \n",
      "  0   0   0   0 136 253 253 253 212 135 132  16   0   0   0   0   0   0   0   0   0   0   0   0   0   0   0   0 \n",
      "  0   0   0   0   0   0   0   0   0   0   0   0   0   0   0   0   0   0   0   0   0   0   0   0   0   0   0   0 \n",
      "  0   0   0   0   0   0   0   0   0   0   0   0   0   0   0   0   0   0   0   0   0   0   0   0   0   0   0   0 \n",
      "  0   0   0   0   0   0   0   0   0   0   0   0   0   0   0   0   0   0   0   0   0   0   0   0   0   0   0   0 \n"
     ]
    }
   ],
   "source": [
    "import sys\n",
    "for row in X_train[0]:\n",
    "    for x in row:\n",
    "        sys.stdout.write(f'{x:3d} ')\n",
    "    sys.stdout.write('\\n')"
   ]
  },
  {
   "cell_type": "code",
   "execution_count": 6,
   "metadata": {},
   "outputs": [],
   "source": [
    "# X scaling\n",
    "# 이미지 데이터는 0 ~ 1사이의 값으로 스케일링\n",
    "X_train = X_train / 255.\n",
    "X_test = X_test / 255."
   ]
  },
  {
   "cell_type": "code",
   "execution_count": 7,
   "metadata": {},
   "outputs": [
    {
     "data": {
      "text/plain": [
       "((60000, 784), (10000, 784))"
      ]
     },
     "execution_count": 7,
     "metadata": {},
     "output_type": "execute_result"
    }
   ],
   "source": [
    "# Fully Connected Network(Dense layer)은 1차원 데이터만 처리 가능하므로 차원 축소\n",
    "X_train = X_train.reshape(-1, 784)\n",
    "X_test = X_test.reshape(-1, 784)\n",
    "X_train.shape, X_test.shape"
   ]
  },
  {
   "cell_type": "code",
   "execution_count": 8,
   "metadata": {},
   "outputs": [
    {
     "data": {
      "text/plain": [
       "(array([0, 1, 2, 3, 4, 5, 6, 7, 8, 9], dtype=uint8),\n",
       " array([5923, 6742, 5958, 6131, 5842, 5421, 5918, 6265, 5851, 5949],\n",
       "       dtype=int64))"
      ]
     },
     "execution_count": 8,
     "metadata": {},
     "output_type": "execute_result"
    }
   ],
   "source": [
    "# y 값의 분포\n",
    "np.unique(y_train, return_counts=True)"
   ]
  },
  {
   "cell_type": "code",
   "execution_count": 9,
   "metadata": {},
   "outputs": [
    {
     "data": {
      "text/plain": [
       "((60000, 10), (10000, 10))"
      ]
     },
     "execution_count": 9,
     "metadata": {},
     "output_type": "execute_result"
    }
   ],
   "source": [
    "# One hot encoding\n",
    "from tensorflow.keras.utils import to_categorical\n",
    "Y_train = to_categorical(y_train)\n",
    "Y_test = to_categorical(y_test)\n",
    "Y_train.shape, Y_test.shape"
   ]
  },
  {
   "cell_type": "markdown",
   "metadata": {},
   "source": [
    "- 모델 정의/설정/학습/평가"
   ]
  },
  {
   "cell_type": "code",
   "execution_count": 10,
   "metadata": {},
   "outputs": [],
   "source": [
    "from tensorflow.keras.models import Sequential, load_model\n",
    "from tensorflow.keras.layers import Dense, Dropout\n",
    "from tensorflow.keras.callbacks import ModelCheckpoint, EarlyStopping"
   ]
  },
  {
   "cell_type": "code",
   "execution_count": 11,
   "metadata": {},
   "outputs": [
    {
     "name": "stdout",
     "output_type": "stream",
     "text": [
      "Model: \"sequential\"\n",
      "_________________________________________________________________\n",
      " Layer (type)                Output Shape              Param #   \n",
      "=================================================================\n",
      " dense (Dense)               (None, 1000)              785000    \n",
      "                                                                 \n",
      " dropout (Dropout)           (None, 1000)              0         \n",
      "                                                                 \n",
      " dense_1 (Dense)             (None, 256)               256256    \n",
      "                                                                 \n",
      " dropout_1 (Dropout)         (None, 256)               0         \n",
      "                                                                 \n",
      " dense_2 (Dense)             (None, 48)                12336     \n",
      "                                                                 \n",
      " dense_3 (Dense)             (None, 10)                490       \n",
      "                                                                 \n",
      "=================================================================\n",
      "Total params: 1054082 (4.02 MB)\n",
      "Trainable params: 1054082 (4.02 MB)\n",
      "Non-trainable params: 0 (0.00 Byte)\n",
      "_________________________________________________________________\n"
     ]
    }
   ],
   "source": [
    "model = Sequential([\n",
    "    Dense(1000, input_dim=784, activation='relu'),\n",
    "    Dropout(0.25),\n",
    "    Dense(256, activation='relu'),\n",
    "    Dropout(0.25),\n",
    "    Dense(48, activation='relu'),\n",
    "    Dense(10, activation='softmax')\n",
    "])\n",
    "model.summary()"
   ]
  },
  {
   "cell_type": "code",
   "execution_count": 12,
   "metadata": {},
   "outputs": [],
   "source": [
    "model.compile('adam', 'categorical_crossentropy', metrics=['accuracy'])"
   ]
  },
  {
   "cell_type": "code",
   "execution_count": 13,
   "metadata": {},
   "outputs": [
    {
     "name": "stdout",
     "output_type": "stream",
     "text": [
      "Epoch 1/100\n",
      "188/188 [==============================] - ETA: 0s - loss: 0.3508 - accuracy: 0.8932\n",
      "Epoch 1: val_loss improved from inf to 0.13527, saving model to models\\best_mnist.h5\n",
      "188/188 [==============================] - 6s 24ms/step - loss: 0.3508 - accuracy: 0.8932 - val_loss: 0.1353 - val_accuracy: 0.9603\n",
      "Epoch 2/100\n",
      "187/188 [============================>.] - ETA: 0s - loss: 0.1274 - accuracy: 0.9609\n",
      "Epoch 2: val_loss improved from 0.13527 to 0.09535, saving model to models\\best_mnist.h5\n",
      "188/188 [==============================] - 4s 24ms/step - loss: 0.1273 - accuracy: 0.9609 - val_loss: 0.0954 - val_accuracy: 0.9693\n",
      "Epoch 3/100\n",
      "186/188 [============================>.] - ETA: 0s - loss: 0.0881 - accuracy: 0.9730\n",
      "Epoch 3: val_loss improved from 0.09535 to 0.09383, saving model to models\\best_mnist.h5\n",
      "188/188 [==============================] - 4s 24ms/step - loss: 0.0881 - accuracy: 0.9730 - val_loss: 0.0938 - val_accuracy: 0.9720\n",
      "Epoch 4/100\n",
      "187/188 [============================>.] - ETA: 0s - loss: 0.0671 - accuracy: 0.9796\n",
      "Epoch 4: val_loss improved from 0.09383 to 0.08758, saving model to models\\best_mnist.h5\n",
      "188/188 [==============================] - 4s 24ms/step - loss: 0.0670 - accuracy: 0.9797 - val_loss: 0.0876 - val_accuracy: 0.9748\n",
      "Epoch 5/100\n",
      "186/188 [============================>.] - ETA: 0s - loss: 0.0535 - accuracy: 0.9832\n",
      "Epoch 5: val_loss improved from 0.08758 to 0.07982, saving model to models\\best_mnist.h5\n",
      "188/188 [==============================] - 4s 24ms/step - loss: 0.0533 - accuracy: 0.9833 - val_loss: 0.0798 - val_accuracy: 0.9767\n",
      "Epoch 6/100\n",
      "188/188 [==============================] - ETA: 0s - loss: 0.0450 - accuracy: 0.9859\n",
      "Epoch 6: val_loss did not improve from 0.07982\n",
      "188/188 [==============================] - 4s 22ms/step - loss: 0.0450 - accuracy: 0.9859 - val_loss: 0.0826 - val_accuracy: 0.9763\n",
      "Epoch 7/100\n",
      "187/188 [============================>.] - ETA: 0s - loss: 0.0378 - accuracy: 0.9879\n",
      "Epoch 7: val_loss did not improve from 0.07982\n",
      "188/188 [==============================] - 4s 23ms/step - loss: 0.0378 - accuracy: 0.9880 - val_loss: 0.0817 - val_accuracy: 0.9768\n",
      "Epoch 8/100\n",
      "188/188 [==============================] - ETA: 0s - loss: 0.0282 - accuracy: 0.9908\n",
      "Epoch 8: val_loss improved from 0.07982 to 0.07910, saving model to models\\best_mnist.h5\n",
      "188/188 [==============================] - 5s 25ms/step - loss: 0.0282 - accuracy: 0.9908 - val_loss: 0.0791 - val_accuracy: 0.9796\n",
      "Epoch 9/100\n",
      "187/188 [============================>.] - ETA: 0s - loss: 0.0302 - accuracy: 0.9900\n",
      "Epoch 9: val_loss improved from 0.07910 to 0.07657, saving model to models\\best_mnist.h5\n",
      "188/188 [==============================] - 5s 24ms/step - loss: 0.0303 - accuracy: 0.9900 - val_loss: 0.0766 - val_accuracy: 0.9802\n",
      "Epoch 10/100\n",
      "187/188 [============================>.] - ETA: 0s - loss: 0.0255 - accuracy: 0.9920\n",
      "Epoch 10: val_loss did not improve from 0.07657\n",
      "188/188 [==============================] - 5s 24ms/step - loss: 0.0256 - accuracy: 0.9920 - val_loss: 0.0773 - val_accuracy: 0.9785\n",
      "Epoch 11/100\n",
      "187/188 [============================>.] - ETA: 0s - loss: 0.0259 - accuracy: 0.9913\n",
      "Epoch 11: val_loss did not improve from 0.07657\n",
      "188/188 [==============================] - 4s 23ms/step - loss: 0.0259 - accuracy: 0.9913 - val_loss: 0.0815 - val_accuracy: 0.9803\n",
      "Epoch 12/100\n",
      "187/188 [============================>.] - ETA: 0s - loss: 0.0217 - accuracy: 0.9927\n",
      "Epoch 12: val_loss did not improve from 0.07657\n",
      "188/188 [==============================] - 4s 22ms/step - loss: 0.0217 - accuracy: 0.9927 - val_loss: 0.0834 - val_accuracy: 0.9798\n",
      "Epoch 13/100\n",
      "186/188 [============================>.] - ETA: 0s - loss: 0.0203 - accuracy: 0.9928\n",
      "Epoch 13: val_loss did not improve from 0.07657\n",
      "188/188 [==============================] - 4s 22ms/step - loss: 0.0203 - accuracy: 0.9928 - val_loss: 0.0871 - val_accuracy: 0.9805\n",
      "Epoch 14/100\n",
      "188/188 [==============================] - ETA: 0s - loss: 0.0192 - accuracy: 0.9936\n",
      "Epoch 14: val_loss did not improve from 0.07657\n",
      "188/188 [==============================] - 4s 23ms/step - loss: 0.0192 - accuracy: 0.9936 - val_loss: 0.0882 - val_accuracy: 0.9794\n"
     ]
    }
   ],
   "source": [
    "mc = ModelCheckpoint('models/best_mnist.h5', verbose=1, save_best_only=True)\n",
    "es = EarlyStopping(patience=5)\n",
    "hist = model.fit(X_train, Y_train, validation_split=0.2,\n",
    "                 epochs=100, batch_size=256, verbose=1,\n",
    "                 callbacks=[mc,es])"
   ]
  },
  {
   "cell_type": "code",
   "execution_count": 14,
   "metadata": {},
   "outputs": [
    {
     "name": "stdout",
     "output_type": "stream",
     "text": [
      "313/313 [==============================] - 1s 3ms/step - loss: 0.0754 - accuracy: 0.9798\n"
     ]
    },
    {
     "data": {
      "text/plain": [
       "[0.07537374645471573, 0.9797999858856201]"
      ]
     },
     "execution_count": 14,
     "metadata": {},
     "output_type": "execute_result"
    }
   ],
   "source": [
    "best_model = load_model('models/best_mnist.h5')\n",
    "best_model.evaluate(X_test, Y_test)"
   ]
  },
  {
   "cell_type": "code",
   "execution_count": 16,
   "metadata": {},
   "outputs": [],
   "source": [
    "y_acc = hist.history['accuracy']\n",
    "y_vloss = hist.history['val_loss']\n",
    "xs= np.arange(1, len(y_acc)+1)"
   ]
  },
  {
   "cell_type": "code",
   "execution_count": 17,
   "metadata": {},
   "outputs": [
    {
     "data": {
      "image/png": "[encoded data removed]",
      "text/plain": [
       "<Figure size 1200x600 with 1 Axes>"
      ]
     },
     "metadata": {},
     "output_type": "display_data"
    }
   ],
   "source": [
    "plt.figure(figsize=(12,6))\n",
    "plt.plot(xs, y_acc, label='train accuracy')\n",
    "plt.plot(xs, y_vloss, label='validation loss')\n",
    "plt.legend(), plt.grid(), plt.xlabel('epochs')\n",
    "plt.show()"
   ]
  },
  {
   "cell_type": "code",
   "execution_count": null,
   "metadata": {},
   "outputs": [],
   "source": []
  }
 ],
 "metadata": {
  "kernelspec": {
   "display_name": "base",
   "language": "python",
   "name": "python3"
  },
  "language_info": {
   "codemirror_mode": {
    "name": "ipython",
    "version": 3
   },
   "file_extension": ".py",
   "mimetype": "text/x-python",
   "name": "python",
   "nbconvert_exporter": "python",
   "pygments_lexer": "ipython3",
   "version": "3.11.4"
  }
 },
 "nbformat": 4,
 "nbformat_minor": 2
}
