{
  "nbformat": 4,
  "nbformat_minor": 0,
  "metadata": {
    "colab": {
      "provenance": [],
      "gpuType": "T4"
    },
    "kernelspec": {
      "name": "python3",
      "display_name": "Python 3"
    },
    "language_info": {
      "name": "python"
    },
    "accelerator": "GPU"
  },
  "cells": [
    {
      "cell_type": "markdown",
      "source": [
        "## IMDB 영화리뷰 분석"
      ],
      "metadata": {
        "id": "n-wLe3syCu4L"
      }
    },
    {
      "cell_type": "code",
      "execution_count": 1,
      "metadata": {
        "id": "nMooRmDtCR2W"
      },
      "outputs": [],
      "source": [
        "import numpy as np\n",
        "import tensorflow as tf\n",
        "seed = 2023\n",
        "np.random.seed(seed)\n",
        "tf.random.set_seed(seed)"
      ]
    },
    {
      "cell_type": "code",
      "source": [
        "from tensorflow.keras.datasets import imdb\n",
        "(X_train, y_train), (X_test, y_test) = imdb.load_data()"
      ],
      "metadata": {
        "colab": {
          "base_uri": "https://localhost:8080/"
        },
        "id": "kgQ-B1LtC8GU",
        "outputId": "e7afd452-2fe5-462a-e225-8eefecf01e7e"
      },
      "execution_count": 2,
      "outputs": [
        {
          "output_type": "stream",
          "name": "stdout",
          "text": [
            "Downloading data from https://storage.googleapis.com/tensorflow/tf-keras-datasets/imdb.npz\n",
            "17464789/17464789 [==============================] - 0s 0us/step\n"
          ]
        }
      ]
    },
    {
      "cell_type": "code",
      "source": [
        "len(X_train), len(X_test)"
      ],
      "metadata": {
        "colab": {
          "base_uri": "https://localhost:8080/"
        },
        "id": "VJQgT8HUDEAb",
        "outputId": "8ef0f22b-227b-491c-862d-d37427d6ecf2"
      },
      "execution_count": 3,
      "outputs": [
        {
          "output_type": "execute_result",
          "data": {
            "text/plain": [
              "(25000, 25000)"
            ]
          },
          "metadata": {},
          "execution_count": 3
        }
      ]
    },
    {
      "cell_type": "code",
      "source": [
        "# 등장한 단어수\n",
        "len(imdb.get_word_index())"
      ],
      "metadata": {
        "colab": {
          "base_uri": "https://localhost:8080/"
        },
        "id": "UFjj2xfKDGk5",
        "outputId": "2b84c0ab-fbd0-4959-9907-f16690e28707"
      },
      "execution_count": 4,
      "outputs": [
        {
          "output_type": "stream",
          "name": "stdout",
          "text": [
            "Downloading data from https://storage.googleapis.com/tensorflow/tf-keras-datasets/imdb_word_index.json\n",
            "1641221/1641221 [==============================] - 0s 0us/step\n"
          ]
        },
        {
          "output_type": "execute_result",
          "data": {
            "text/plain": [
              "88584"
            ]
          },
          "metadata": {},
          "execution_count": 4
        }
      ]
    },
    {
      "cell_type": "code",
      "source": [
        "print(X_train[0])"
      ],
      "metadata": {
        "colab": {
          "base_uri": "https://localhost:8080/"
        },
        "id": "Pq1ApxmKDthS",
        "outputId": "569921c8-e6dd-4585-afc4-bc6f35e15ea9"
      },
      "execution_count": 5,
      "outputs": [
        {
          "output_type": "stream",
          "name": "stdout",
          "text": [
            "[1, 14, 22, 16, 43, 530, 973, 1622, 1385, 65, 458, 4468, 66, 3941, 4, 173, 36, 256, 5, 25, 100, 43, 838, 112, 50, 670, 22665, 9, 35, 480, 284, 5, 150, 4, 172, 112, 167, 21631, 336, 385, 39, 4, 172, 4536, 1111, 17, 546, 38, 13, 447, 4, 192, 50, 16, 6, 147, 2025, 19, 14, 22, 4, 1920, 4613, 469, 4, 22, 71, 87, 12, 16, 43, 530, 38, 76, 15, 13, 1247, 4, 22, 17, 515, 17, 12, 16, 626, 18, 19193, 5, 62, 386, 12, 8, 316, 8, 106, 5, 4, 2223, 5244, 16, 480, 66, 3785, 33, 4, 130, 12, 16, 38, 619, 5, 25, 124, 51, 36, 135, 48, 25, 1415, 33, 6, 22, 12, 215, 28, 77, 52, 5, 14, 407, 16, 82, 10311, 8, 4, 107, 117, 5952, 15, 256, 4, 31050, 7, 3766, 5, 723, 36, 71, 43, 530, 476, 26, 400, 317, 46, 7, 4, 12118, 1029, 13, 104, 88, 4, 381, 15, 297, 98, 32, 2071, 56, 26, 141, 6, 194, 7486, 18, 4, 226, 22, 21, 134, 476, 26, 480, 5, 144, 30, 5535, 18, 51, 36, 28, 224, 92, 25, 104, 4, 226, 65, 16, 38, 1334, 88, 12, 16, 283, 5, 16, 4472, 113, 103, 32, 15, 16, 5345, 19, 178, 32]\n"
          ]
        }
      ]
    },
    {
      "cell_type": "code",
      "source": [
        "# 리뷰 최대/평균 길이\n",
        "max(len(s) for s in X_train), sum(len(s) for s in X_train) / len(X_train)"
      ],
      "metadata": {
        "colab": {
          "base_uri": "https://localhost:8080/"
        },
        "id": "5H__qIcUDXyO",
        "outputId": "da4f31ac-b11a-42e8-91f2-c529f320f2fc"
      },
      "execution_count": 6,
      "outputs": [
        {
          "output_type": "execute_result",
          "data": {
            "text/plain": [
              "(2494, 238.71364)"
            ]
          },
          "metadata": {},
          "execution_count": 6
        }
      ]
    },
    {
      "cell_type": "markdown",
      "source": [
        "#### 1. LSTM으로 감정분석\n",
        "- 단어빈도수 기준 많이 사용되는 10,000 단어만 사용\n",
        "- 한 문장의 단어수: 200"
      ],
      "metadata": {
        "id": "4LQZfLUHFAYq"
      }
    },
    {
      "cell_type": "code",
      "source": [
        "from tensorflow.keras.models import Sequential, load_model\n",
        "from tensorflow.keras.layers import Embedding, LSTM, Dense\n",
        "from tensorflow.keras.callbacks import ModelCheckpoint, EarlyStopping\n",
        "from tensorflow.keras.preprocessing.sequence import pad_sequences"
      ],
      "metadata": {
        "id": "dF7HcceBD4zx"
      },
      "execution_count": 7,
      "outputs": []
    },
    {
      "cell_type": "code",
      "source": [
        "num_words = 10000\n",
        "(X_train, y_train), (X_test, y_test) = imdb.load_data(num_words=num_words)"
      ],
      "metadata": {
        "id": "IDuPNvczF-xC"
      },
      "execution_count": 8,
      "outputs": []
    },
    {
      "cell_type": "code",
      "source": [
        "max_len = 200\n",
        "X_train = pad_sequences(X_train, maxlen=max_len)\n",
        "X_test = pad_sequences(X_test, maxlen=max_len)\n",
        "X_train.shape, X_test.shape"
      ],
      "metadata": {
        "colab": {
          "base_uri": "https://localhost:8080/"
        },
        "id": "DYE4kyd8GQGJ",
        "outputId": "f56bcac7-9332-49cc-9b0c-01915cb4352e"
      },
      "execution_count": 9,
      "outputs": [
        {
          "output_type": "execute_result",
          "data": {
            "text/plain": [
              "((25000, 200), (25000, 200))"
            ]
          },
          "metadata": {},
          "execution_count": 9
        }
      ]
    },
    {
      "cell_type": "markdown",
      "source": [
        "- 모델\n",
        "    - Embedding vector size: 100\n",
        "    - LSTM node 수: 128"
      ],
      "metadata": {
        "id": "yNeaEIfLHCFL"
      }
    },
    {
      "cell_type": "code",
      "source": [
        "model = Sequential([\n",
        "    Embedding(num_words, 100, input_length=max_len),\n",
        "    LSTM(128),\n",
        "    Dense(1, activation='sigmoid')\n",
        "])\n",
        "model.summary()"
      ],
      "metadata": {
        "colab": {
          "base_uri": "https://localhost:8080/"
        },
        "id": "-cP2v27OGmEB",
        "outputId": "72e20021-e889-4e9b-c563-491f83643a67"
      },
      "execution_count": 10,
      "outputs": [
        {
          "output_type": "stream",
          "name": "stdout",
          "text": [
            "Model: \"sequential\"\n",
            "_________________________________________________________________\n",
            " Layer (type)                Output Shape              Param #   \n",
            "=================================================================\n",
            " embedding (Embedding)       (None, 200, 100)          1000000   \n",
            "                                                                 \n",
            " lstm (LSTM)                 (None, 128)               117248    \n",
            "                                                                 \n",
            " dense (Dense)               (None, 1)                 129       \n",
            "                                                                 \n",
            "=================================================================\n",
            "Total params: 1117377 (4.26 MB)\n",
            "Trainable params: 1117377 (4.26 MB)\n",
            "Non-trainable params: 0 (0.00 Byte)\n",
            "_________________________________________________________________\n"
          ]
        }
      ]
    },
    {
      "cell_type": "code",
      "source": [
        "model.compile('adam', 'binary_crossentropy', ['accuracy'])\n",
        "\n",
        "model_path = 'best-imdb-lstm.h5'\n",
        "mc = ModelCheckpoint(model_path, save_best_only=True, verbose=1)\n",
        "es = EarlyStopping(patience=5)"
      ],
      "metadata": {
        "id": "v2w1TzvuHtNJ"
      },
      "execution_count": 11,
      "outputs": []
    },
    {
      "cell_type": "code",
      "source": [
        "hist = model.fit(\n",
        "    X_train, y_train, validation_split=0.2, epochs=30, batch_size=64, callbacks=[mc,es]\n",
        ")"
      ],
      "metadata": {
        "colab": {
          "base_uri": "https://localhost:8080/"
        },
        "id": "zRI_BzTaIQaa",
        "outputId": "7504fd72-138b-43ca-f543-9e8aa7c1b7b5"
      },
      "execution_count": 12,
      "outputs": [
        {
          "output_type": "stream",
          "name": "stdout",
          "text": [
            "Epoch 1/30\n",
            "313/313 [==============================] - ETA: 0s - loss: 0.4659 - accuracy: 0.7784\n",
            "Epoch 1: val_loss improved from inf to 0.32655, saving model to best-imdb-lstm.h5\n",
            "313/313 [==============================] - 47s 125ms/step - loss: 0.4659 - accuracy: 0.7784 - val_loss: 0.3266 - val_accuracy: 0.8644\n",
            "Epoch 2/30\n",
            "  1/313 [..............................] - ETA: 4s - loss: 0.2933 - accuracy: 0.8750"
          ]
        },
        {
          "output_type": "stream",
          "name": "stderr",
          "text": [
            "/usr/local/lib/python3.10/dist-packages/keras/src/engine/training.py:3079: UserWarning: You are saving your model as an HDF5 file via `model.save()`. This file format is considered legacy. We recommend using instead the native Keras format, e.g. `model.save('my_model.keras')`.\n",
            "  saving_api.save_model(\n"
          ]
        },
        {
          "output_type": "stream",
          "name": "stdout",
          "text": [
            "313/313 [==============================] - ETA: 0s - loss: 0.2491 - accuracy: 0.9009\n",
            "Epoch 2: val_loss improved from 0.32655 to 0.31602, saving model to best-imdb-lstm.h5\n",
            "313/313 [==============================] - 18s 57ms/step - loss: 0.2491 - accuracy: 0.9009 - val_loss: 0.3160 - val_accuracy: 0.8694\n",
            "Epoch 3/30\n",
            "313/313 [==============================] - ETA: 0s - loss: 0.1778 - accuracy: 0.9342\n",
            "Epoch 3: val_loss did not improve from 0.31602\n",
            "313/313 [==============================] - 9s 29ms/step - loss: 0.1778 - accuracy: 0.9342 - val_loss: 0.3417 - val_accuracy: 0.8660\n",
            "Epoch 4/30\n",
            "313/313 [==============================] - ETA: 0s - loss: 0.1324 - accuracy: 0.9517\n",
            "Epoch 4: val_loss did not improve from 0.31602\n",
            "313/313 [==============================] - 8s 26ms/step - loss: 0.1324 - accuracy: 0.9517 - val_loss: 0.4189 - val_accuracy: 0.8642\n",
            "Epoch 5/30\n",
            "313/313 [==============================] - ETA: 0s - loss: 0.1149 - accuracy: 0.9602\n",
            "Epoch 5: val_loss did not improve from 0.31602\n",
            "313/313 [==============================] - 6s 20ms/step - loss: 0.1149 - accuracy: 0.9602 - val_loss: 0.4209 - val_accuracy: 0.8346\n",
            "Epoch 6/30\n",
            "313/313 [==============================] - ETA: 0s - loss: 0.0990 - accuracy: 0.9644\n",
            "Epoch 6: val_loss did not improve from 0.31602\n",
            "313/313 [==============================] - 6s 20ms/step - loss: 0.0990 - accuracy: 0.9644 - val_loss: 0.4679 - val_accuracy: 0.8490\n",
            "Epoch 7/30\n",
            "313/313 [==============================] - ETA: 0s - loss: 0.0650 - accuracy: 0.9786\n",
            "Epoch 7: val_loss did not improve from 0.31602\n",
            "313/313 [==============================] - 6s 19ms/step - loss: 0.0650 - accuracy: 0.9786 - val_loss: 0.5290 - val_accuracy: 0.8510\n"
          ]
        }
      ]
    },
    {
      "cell_type": "code",
      "source": [
        "best_model = load_model(model_path)\n",
        "best_model.evaluate(X_test, y_test)"
      ],
      "metadata": {
        "colab": {
          "base_uri": "https://localhost:8080/"
        },
        "id": "05GcpNAtM67L",
        "outputId": "47476e20-1e7e-4b0e-9010-78ccc7c5642e"
      },
      "execution_count": 14,
      "outputs": [
        {
          "output_type": "stream",
          "name": "stdout",
          "text": [
            "782/782 [==============================] - 5s 6ms/step - loss: 0.3314 - accuracy: 0.8662\n"
          ]
        },
        {
          "output_type": "execute_result",
          "data": {
            "text/plain": [
              "[0.33142954111099243, 0.8661999702453613]"
            ]
          },
          "metadata": {},
          "execution_count": 14
        }
      ]
    },
    {
      "cell_type": "markdown",
      "source": [
        "#### 2. Conv1D로 학습"
      ],
      "metadata": {
        "id": "gzpM2vQtNEFz"
      }
    },
    {
      "cell_type": "code",
      "source": [
        "from tensorflow.keras.layers import Conv1D, MaxPooling1D, GlobalMaxPooling1D, Dropout"
      ],
      "metadata": {
        "id": "0M9_j0orNCXC"
      },
      "execution_count": 16,
      "outputs": []
    },
    {
      "cell_type": "code",
      "source": [
        "model2 = Sequential([\n",
        "    Embedding(num_words, 100, input_length=max_len),\n",
        "    Dropout(0.5),\n",
        "    Conv1D(64, 7, activation='relu'),\n",
        "    MaxPooling1D(7),\n",
        "    Conv1D(64, 5, activation='relu'),\n",
        "    MaxPooling1D(5),\n",
        "    GlobalMaxPooling1D(),\n",
        "    Dense(1, 'sigmoid')\n",
        "])"
      ],
      "metadata": {
        "id": "XT9c7rXvNS-j"
      },
      "execution_count": 18,
      "outputs": []
    },
    {
      "cell_type": "code",
      "source": [
        "model2.compile('adam', 'binary_crossentropy', ['accuracy'])\n",
        "\n",
        "model_path2 = 'best-imdb-lstm.h5'\n",
        "mc2 = ModelCheckpoint(model_path2, save_best_only=True, verbose=1)\n",
        "es2 = EarlyStopping(patience=5)"
      ],
      "metadata": {
        "id": "rQKZO8ZPOACL"
      },
      "execution_count": 19,
      "outputs": []
    },
    {
      "cell_type": "code",
      "source": [
        "hist2 = model2.fit(\n",
        "    X_train, y_train, validation_split=0.2, epochs=30, batch_size=64, callbacks=[mc2,es2]\n",
        ")"
      ],
      "metadata": {
        "colab": {
          "base_uri": "https://localhost:8080/"
        },
        "id": "PdGpa5IiOHi4",
        "outputId": "3015155e-d088-4a82-bc82-30b49b17d079"
      },
      "execution_count": 20,
      "outputs": [
        {
          "output_type": "stream",
          "name": "stdout",
          "text": [
            "Epoch 1/30\n",
            "313/313 [==============================] - ETA: 0s - loss: 0.5215 - accuracy: 0.7103\n",
            "Epoch 1: val_loss improved from inf to 0.36101, saving model to best-imdb-lstm.h5\n",
            "313/313 [==============================] - 33s 78ms/step - loss: 0.5215 - accuracy: 0.7103 - val_loss: 0.3610 - val_accuracy: 0.8470\n",
            "Epoch 2/30\n",
            "  3/313 [..............................] - ETA: 16s - loss: 0.3022 - accuracy: 0.8802"
          ]
        },
        {
          "output_type": "stream",
          "name": "stderr",
          "text": [
            "/usr/local/lib/python3.10/dist-packages/keras/src/engine/training.py:3079: UserWarning: You are saving your model as an HDF5 file via `model.save()`. This file format is considered legacy. We recommend using instead the native Keras format, e.g. `model.save('my_model.keras')`.\n",
            "  saving_api.save_model(\n"
          ]
        },
        {
          "output_type": "stream",
          "name": "stdout",
          "text": [
            "313/313 [==============================] - ETA: 0s - loss: 0.2959 - accuracy: 0.8789\n",
            "Epoch 2: val_loss improved from 0.36101 to 0.34868, saving model to best-imdb-lstm.h5\n",
            "313/313 [==============================] - 11s 34ms/step - loss: 0.2959 - accuracy: 0.8789 - val_loss: 0.3487 - val_accuracy: 0.8504\n",
            "Epoch 3/30\n",
            "313/313 [==============================] - ETA: 0s - loss: 0.2117 - accuracy: 0.9172\n",
            "Epoch 3: val_loss did not improve from 0.34868\n",
            "313/313 [==============================] - 6s 18ms/step - loss: 0.2117 - accuracy: 0.9172 - val_loss: 0.3696 - val_accuracy: 0.8518\n",
            "Epoch 4/30\n",
            "313/313 [==============================] - ETA: 0s - loss: 0.1537 - accuracy: 0.9400\n",
            "Epoch 4: val_loss did not improve from 0.34868\n",
            "313/313 [==============================] - 5s 16ms/step - loss: 0.1537 - accuracy: 0.9400 - val_loss: 0.4182 - val_accuracy: 0.8484\n",
            "Epoch 5/30\n",
            "313/313 [==============================] - ETA: 0s - loss: 0.1085 - accuracy: 0.9602\n",
            "Epoch 5: val_loss did not improve from 0.34868\n",
            "313/313 [==============================] - 3s 11ms/step - loss: 0.1085 - accuracy: 0.9602 - val_loss: 0.4940 - val_accuracy: 0.8420\n",
            "Epoch 6/30\n",
            "313/313 [==============================] - ETA: 0s - loss: 0.0784 - accuracy: 0.9704\n",
            "Epoch 6: val_loss did not improve from 0.34868\n",
            "313/313 [==============================] - 3s 9ms/step - loss: 0.0784 - accuracy: 0.9704 - val_loss: 0.5964 - val_accuracy: 0.8394\n",
            "Epoch 7/30\n",
            "313/313 [==============================] - ETA: 0s - loss: 0.0558 - accuracy: 0.9801\n",
            "Epoch 7: val_loss did not improve from 0.34868\n",
            "313/313 [==============================] - 4s 13ms/step - loss: 0.0558 - accuracy: 0.9801 - val_loss: 0.6812 - val_accuracy: 0.8418\n"
          ]
        }
      ]
    },
    {
      "cell_type": "code",
      "source": [],
      "metadata": {
        "id": "Y2O8NrL8OUXh"
      },
      "execution_count": null,
      "outputs": []
    }
  ]
}